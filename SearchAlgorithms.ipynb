{
  "nbformat": 4,
  "nbformat_minor": 0,
  "metadata": {
    "colab": {
      "name": "SearchAlgorithms.ipynb",
      "provenance": [],
      "authorship_tag": "ABX9TyNS1WQxxzuH593PuMl80qUd",
      "include_colab_link": true
    },
    "kernelspec": {
      "name": "python3",
      "display_name": "Python 3"
    },
    "language_info": {
      "name": "python"
    }
  },
  "cells": [
    {
      "cell_type": "markdown",
      "metadata": {
        "id": "view-in-github",
        "colab_type": "text"
      },
      "source": [
        "<a href=\"https://colab.research.google.com/github/DeVcB13d/Introduction-to-AI/blob/main/SearchAlgorithms.ipynb\" target=\"_parent\"><img src=\"https://colab.research.google.com/assets/colab-badge.svg\" alt=\"Open In Colab\"/></a>"
      ]
    },
    {
      "cell_type": "code",
      "execution_count": null,
      "metadata": {
        "id": "8rHB_C1j9LDb"
      },
      "outputs": [],
      "source": [
        "WHITE = 0\n",
        "GRAY = 1\n",
        "BLACK = 2\n",
        "\n",
        "class Graph:\n",
        "    \n",
        "    def __init__(self,M):\n",
        "        self.Mat = M\n",
        "        self.N = M.shape[0]\n",
        "        self.parent = [None for _ in range(self.N)]\n",
        "        self.color = [None for _ in range(self.N)]\n",
        "        \n",
        "        \n",
        "    def getParent(self,index):\n",
        "        return self.parent[index]\n",
        "        \n",
        "    def getColor(self,index):\n",
        "        return self.color[index]\n",
        "    \n",
        "    def setParent(self,index,P):\n",
        "        self.parent[index] = P\n",
        "        \n",
        "    def setColor(self,index,color):\n",
        "        self.color[index] = color\n",
        "        \n",
        "    def getAdj(self, index):\n",
        "        adj=[]\n",
        "        for i,v in enumerate(self.Mat[index,:]):\n",
        "            if v!=0:\n",
        "                adj.append(i)\n",
        "        return adj"
      ]
    },
    {
      "cell_type": "code",
      "source": [
        "class BFS:\n",
        "    \n",
        "    def __init__(self,G,source):\n",
        "        \n",
        "        self.G = G\n",
        "        self.source = source\n",
        "        self.Q = []\n",
        "        self.result = []\n",
        "        \n",
        "    def traverse(self):\n",
        "    \n",
        "        for i in range(self.G.N):\n",
        "            self.G.setColor(i,WHITE)\n",
        "            self.G.setParent(i,None)\n",
        "            \n",
        "        self.G.setColor(self.source,GRAY)\n",
        "        self.Q.append(self.source)\n",
        "        while self.Q :\n",
        "            u = self.Q.pop(0)\n",
        "            for v in self.G.getAdj(u):\n",
        "                if self.G.getColor(v) == WHITE:\n",
        "                    self.G.setColor(v,GRAY)\n",
        "                    self.G.setParent(v,u)\n",
        "                    self.Q.append(v)\n",
        "            self.G.setColor(u,BLACK)\n",
        "            self.result.append(u)\n",
        "            \n",
        "    def printResult(self):\n",
        "        for u in self.result:\n",
        "            print(u,end=' ')\n",
        "        print('')\n",
        "            \n",
        "    def printLevel(self,curr,depth):\n",
        "        if curr == None:\n",
        "            return;\n",
        "        for i in range(1,depth):\n",
        "            print(\"│   \",end='')\n",
        "        if depth > 0:\n",
        "            print(\"|___\",end='')\n",
        "        print(curr);\n",
        "\n",
        "        for child in [i for i,x in enumerate(self.G.parent) if x== curr]:\n",
        "            self.printLevel(child, depth + 1);"
      ],
      "metadata": {
        "id": "-atmoCdR9igm"
      },
      "execution_count": null,
      "outputs": []
    },
    {
      "cell_type": "code",
      "source": [
        "import numpy as np\n",
        "\n",
        "M = np.array([[0,1,1,0,0],\n",
        "              [1,1,0,1,0],\n",
        "              [1,0,0,1,1],\n",
        "              [0,1,1,0,1],\n",
        "              [0,0,1,1,0]])\n",
        "\n",
        "G = Graph(M)\n",
        "bfs = BFS(G,1)\n",
        "bfs.traverse()\n",
        "bfs.printResult()\n",
        "bfs.printLevel(1,0)"
      ],
      "metadata": {
        "colab": {
          "base_uri": "https://localhost:8080/"
        },
        "id": "6dnmCAWm9mxX",
        "outputId": "4dc25515-b93c-4d68-fc5b-b36d492a6ecb"
      },
      "execution_count": null,
      "outputs": [
        {
          "output_type": "stream",
          "name": "stdout",
          "text": [
            "1 0 3 2 4 \n",
            "1\n",
            "|___0\n",
            "│   |___2\n",
            "|___3\n",
            "│   |___4\n"
          ]
        }
      ]
    },
    {
      "cell_type": "code",
      "source": [
        "class DFS:\n",
        "  def __init__(self,G,source):\n",
        "    self.G = G\n",
        "    self.source = source\n",
        "    self.Result = []\n",
        "\n",
        "  #Recursively visit the node by depth\n",
        "  def DFS_visit(self,node):\n",
        "    for v in self.G.getAdj(node):\n",
        "      if G.getColor(v) == WHITE:\n",
        "        G.setColor(v,GRAY)\n",
        "        G.setParent(v,node)\n",
        "        self.DFS_visit(v)\n",
        "    self.G.setColor(node,BLACK)\n",
        "    self.Result.append(node)\n",
        "\n",
        "  def DFS_traverse(self):\n",
        "    for i in range(self.G.N):\n",
        "        self.G.setColor(i,WHITE)\n",
        "        self.G.setParent(i,None)\n",
        "    for u in range(self.G.N):\n",
        "      if self.G.getColor(u) == WHITE :\n",
        "        self.G.setColor(u,GRAY)\n",
        "        self.DFS_visit(u)\n",
        "\n",
        "  def printLevel(self,curr,depth):\n",
        "    if curr == None:\n",
        "        return;\n",
        "    for i in range(1,depth):\n",
        "        print(\"|  \",end='')\n",
        "    if depth > 0:\n",
        "        print(\"|___\",end='')\n",
        "    print(curr);\n",
        "\n",
        "    for child in [i for i,x in enumerate(self.G.parent) if x== curr]:\n",
        "        self.printLevel(child, depth + 1);\n",
        "    \n",
        "\n",
        "\n",
        "\n"
      ],
      "metadata": {
        "id": "1k6gl99t94Fj"
      },
      "execution_count": null,
      "outputs": []
    },
    {
      "cell_type": "code",
      "source": [
        "class Depth_FS():\n",
        "  def __init__(self,G,source,MaxD):\n",
        "    self.G = G\n",
        "    self.source = source\n",
        "    self.MaxD = MaxD\n",
        "    self.Result = []\n",
        "  #Recursively visit the node by depth\n",
        "  def DFS_visit(self,node,curr_depth):\n",
        "    for v in self.G.getAdj(node):\n",
        "      if G.getColor(v) == WHITE:\n",
        "        G.setColor(v,GRAY)\n",
        "        G.setParent(v,node)\n",
        "        if curr_depth < self.MaxD:\n",
        "          curr_depth = curr_depth+1\n",
        "          self.DFS_visit(v,curr_depth)\n",
        "    self.G.setColor(node,BLACK)\n",
        "    self.Result.append(node)\n",
        "\n",
        "  def DFS_traverse(self):\n",
        "    for i in range(self.G.N):\n",
        "        self.G.setColor(i,WHITE)\n",
        "        self.G.setParent(i,None)\n",
        "    for u in range(self.G.N):\n",
        "      curr_depth = 0\n",
        "      if self.G.getColor(u) == WHITE :\n",
        "        self.G.setColor(u,GRAY)\n",
        "        self.DFS_visit(u,curr_depth)\n",
        "\n",
        "  def printLevel(self,curr,depth):\n",
        "    if curr == None:\n",
        "        return;\n",
        "    for i in range(1,depth):\n",
        "        print(\"|  \",end='')\n",
        "    if depth > 0:\n",
        "        print(\"|___\",end='')\n",
        "    print(curr);\n",
        "\n",
        "    for child in [i for i,x in enumerate(self.G.parent) if x== curr]:\n",
        "        self.printLevel(child, depth + 1);"
      ],
      "metadata": {
        "id": "cqqz9md2OAtD"
      },
      "execution_count": null,
      "outputs": []
    },
    {
      "cell_type": "code",
      "source": [
        "import numpy as np\n",
        "\n",
        "M = np.array([[0,1,0,0,1,0,1,0,0],\n",
        "              [1,0,1,0,0,0,0,0,0],\n",
        "              [0,1,0,1,1,0,0,0,0],\n",
        "              [0,0,1,0,0,1,0,0,0],\n",
        "              [1,0,1,0,0,1,0,0,0],\n",
        "              [0,0,0,1,1,0,0,0,0],\n",
        "              [1,0,0,0,0,0,0,1,1],\n",
        "              [0,0,0,0,0,0,1,0,1],\n",
        "              [0,0,0,0,0,0,1,1,0]])\n",
        "\n",
        "G = Graph(M)\n",
        "bfs = BFS(G,1)\n",
        "bfs.traverse()\n",
        "bfs.printResult()\n",
        "bfs.printLevel(1,0)\n",
        "\n",
        "dfs = DFS(G,1)\n",
        "dfs.DFS_traverse()\n",
        "print(dfs.Result)\n",
        "dfs.printLevel(0,1)\n",
        "\n",
        "\n",
        "dfs = Depth_FS(G,1,2)\n",
        "dfs.DFS_traverse()\n",
        "print(dfs.Result)\n",
        "dfs.printLevel(0,1)"
      ],
      "metadata": {
        "colab": {
          "base_uri": "https://localhost:8080/"
        },
        "id": "h2142joKDgqM",
        "outputId": "681714e8-e213-4cc6-8a0f-40cf318abdd9"
      },
      "execution_count": null,
      "outputs": [
        {
          "output_type": "stream",
          "name": "stdout",
          "text": [
            "1 0 2 4 6 3 5 7 8 \n",
            "1\n",
            "|___0\n",
            "│   |___4\n",
            "│   │   |___5\n",
            "│   |___6\n",
            "│   │   |___7\n",
            "│   │   |___8\n",
            "|___2\n",
            "│   |___3\n",
            "[4, 5, 3, 2, 1, 8, 7, 6, 0]\n",
            "|___0\n",
            "|  |___1\n",
            "|  |  |___2\n",
            "|  |  |  |___3\n",
            "|  |  |  |  |___5\n",
            "|  |  |  |  |  |___4\n",
            "|  |___6\n",
            "|  |  |___7\n",
            "|  |  |  |___8\n",
            "[2, 1, 6, 0, 5]\n",
            "|___0\n",
            "|  |___1\n",
            "|  |  |___2\n",
            "|  |  |  |___3\n",
            "|  |  |  |___4\n",
            "|  |___6\n",
            "|  |  |___7\n",
            "|  |  |___8\n"
          ]
        }
      ]
    },
    {
      "cell_type": "code",
      "source": [
        "class Uniform_Cost_Search():\n",
        "  "
      ],
      "metadata": {
        "id": "4fcjAeY2QcVy"
      },
      "execution_count": null,
      "outputs": []
    },
    {
      "cell_type": "code",
      "source": [
        "\n"
      ],
      "metadata": {
        "id": "cVhxqdkIKNY0"
      },
      "execution_count": null,
      "outputs": []
    }
  ]
}